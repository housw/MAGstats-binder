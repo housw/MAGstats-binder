{
 "cells": [
  {
   "cell_type": "markdown",
   "metadata": {},
   "source": [
    "### Read in MAG tree"
   ]
  },
  {
   "cell_type": "code",
   "execution_count": 12,
   "metadata": {},
   "outputs": [
    {
     "data": {
      "text/html": [
       "'../example_data/MAG_tree.nwk'"
      ],
      "text/latex": [
       "'../example\\_data/MAG\\_tree.nwk'"
      ],
      "text/markdown": [
       "'../example_data/MAG_tree.nwk'"
      ],
      "text/plain": [
       "[1] \"../example_data/MAG_tree.nwk\""
      ]
     },
     "metadata": {},
     "output_type": "display_data"
    },
    {
     "data": {
      "text/html": [
       "'../example_data/MAG_metadata.tsv'"
      ],
      "text/latex": [
       "'../example\\_data/MAG\\_metadata.tsv'"
      ],
      "text/markdown": [
       "'../example_data/MAG_metadata.tsv'"
      ],
      "text/plain": [
       "[1] \"../example_data/MAG_metadata.tsv\""
      ]
     },
     "metadata": {},
     "output_type": "display_data"
    }
   ],
   "source": [
    "data_folder <- \"./example_data\"\n",
    "nwk_file <- \"MAG_tree.nwk\"\n",
    "bin_metadata_file <- \"MAG_metadata.tsv\"\n",
    "path2nwk_file <- paste(data_folder, nwk_file, sep = \"/\")\n",
    "path2metadata_file <- paste(data_folder, bin_metadata_file, sep = \"/\")\n",
    "path2nwk_file\n",
    "path2metadata_file"
   ]
  },
  {
   "cell_type": "markdown",
   "metadata": {},
   "source": [
    "### load packages"
   ]
  },
  {
   "cell_type": "code",
   "execution_count": 13,
   "metadata": {},
   "outputs": [],
   "source": [
    "library(\"RColorBrewer\")\n",
    "library('ggplot2')\n",
    "library('ggtree')"
   ]
  },
  {
   "cell_type": "markdown",
   "metadata": {},
   "source": [
    "### read in tree"
   ]
  },
  {
   "cell_type": "code",
   "execution_count": 14,
   "metadata": {},
   "outputs": [
    {
     "name": "stdout",
     "output_type": "stream",
     "text": [
      "List of 5\n",
      " $ edge       : int [1:200, 1:2] 102 103 103 104 104 102 105 106 107 108 ...\n",
      " $ edge.length: num [1:200] 0.971 0.243 0.139 0.588 0.275 ...\n",
      " $ Nnode      : int 100\n",
      " $ node.label : chr [1:100] \"OROOT\" \"\" \"\" \"\" ...\n",
      " $ tip.label  : chr [1:101] \"MAG_94\" \"MAG_64\" \"MAG_43\" \"MAG_16\" ...\n",
      " - attr(*, \"class\")= chr \"phylo\"\n",
      " - attr(*, \"order\")= chr \"cladewise\"\n"
     ]
    }
   ],
   "source": [
    "tree <- read.tree(path2nwk_file) \n",
    "str(tree)"
   ]
  },
  {
   "cell_type": "markdown",
   "metadata": {},
   "source": [
    "### read in metadata"
   ]
  },
  {
   "cell_type": "code",
   "execution_count": 15,
   "metadata": {},
   "outputs": [
    {
     "data": {
      "text/html": [
       "<table>\n",
       "<caption>A data.frame: 6 × 5</caption>\n",
       "<thead>\n",
       "\t<tr><th scope=col>MAG_ID</th><th scope=col>Length</th><th scope=col>Completion</th><th scope=col>Redundancy</th><th scope=col>GC_Content</th></tr>\n",
       "\t<tr><th scope=col>&lt;chr&gt;</th><th scope=col>&lt;int&gt;</th><th scope=col>&lt;dbl&gt;</th><th scope=col>&lt;dbl&gt;</th><th scope=col>&lt;dbl&gt;</th></tr>\n",
       "</thead>\n",
       "<tbody>\n",
       "\t<tr><td>MAG_1  </td><td>2495192</td><td>90.65</td><td>6.5</td><td>38.80</td></tr>\n",
       "\t<tr><td>MAG_10 </td><td> 722913</td><td>56.12</td><td>0.0</td><td>49.36</td></tr>\n",
       "\t<tr><td>MAG_100</td><td> 705754</td><td>60.43</td><td>4.3</td><td>29.17</td></tr>\n",
       "\t<tr><td>MAG_101</td><td>2446458</td><td>97.12</td><td>0.7</td><td>44.02</td></tr>\n",
       "\t<tr><td>MAG_102</td><td>2626036</td><td>95.68</td><td>4.3</td><td>46.83</td></tr>\n",
       "\t<tr><td>MAG_11 </td><td>1024210</td><td>79.14</td><td>2.9</td><td>36.51</td></tr>\n",
       "</tbody>\n",
       "</table>\n"
      ],
      "text/latex": [
       "A data.frame: 6 × 5\n",
       "\\begin{tabular}{r|lllll}\n",
       " MAG\\_ID & Length & Completion & Redundancy & GC\\_Content\\\\\n",
       " <chr> & <int> & <dbl> & <dbl> & <dbl>\\\\\n",
       "\\hline\n",
       "\t MAG\\_1   & 2495192 & 90.65 & 6.5 & 38.80\\\\\n",
       "\t MAG\\_10  &  722913 & 56.12 & 0.0 & 49.36\\\\\n",
       "\t MAG\\_100 &  705754 & 60.43 & 4.3 & 29.17\\\\\n",
       "\t MAG\\_101 & 2446458 & 97.12 & 0.7 & 44.02\\\\\n",
       "\t MAG\\_102 & 2626036 & 95.68 & 4.3 & 46.83\\\\\n",
       "\t MAG\\_11  & 1024210 & 79.14 & 2.9 & 36.51\\\\\n",
       "\\end{tabular}\n"
      ],
      "text/markdown": [
       "\n",
       "A data.frame: 6 × 5\n",
       "\n",
       "| MAG_ID &lt;chr&gt; | Length &lt;int&gt; | Completion &lt;dbl&gt; | Redundancy &lt;dbl&gt; | GC_Content &lt;dbl&gt; |\n",
       "|---|---|---|---|---|\n",
       "| MAG_1   | 2495192 | 90.65 | 6.5 | 38.80 |\n",
       "| MAG_10  |  722913 | 56.12 | 0.0 | 49.36 |\n",
       "| MAG_100 |  705754 | 60.43 | 4.3 | 29.17 |\n",
       "| MAG_101 | 2446458 | 97.12 | 0.7 | 44.02 |\n",
       "| MAG_102 | 2626036 | 95.68 | 4.3 | 46.83 |\n",
       "| MAG_11  | 1024210 | 79.14 | 2.9 | 36.51 |\n",
       "\n"
      ],
      "text/plain": [
       "  MAG_ID  Length  Completion Redundancy GC_Content\n",
       "1 MAG_1   2495192 90.65      6.5        38.80     \n",
       "2 MAG_10   722913 56.12      0.0        49.36     \n",
       "3 MAG_100  705754 60.43      4.3        29.17     \n",
       "4 MAG_101 2446458 97.12      0.7        44.02     \n",
       "5 MAG_102 2626036 95.68      4.3        46.83     \n",
       "6 MAG_11  1024210 79.14      2.9        36.51     "
      ]
     },
     "metadata": {},
     "output_type": "display_data"
    }
   ],
   "source": [
    "metadata_df <- read.table(path2metadata_file, header = TRUE, sep = \"\\t\", as.is = TRUE, stringsAsFactors = FALSE)\n",
    "head(metadata_df)"
   ]
  },
  {
   "cell_type": "markdown",
   "metadata": {},
   "source": [
    "### associate metadata and tree"
   ]
  },
  {
   "cell_type": "code",
   "execution_count": 16,
   "metadata": {},
   "outputs": [
    {
     "name": "stderr",
     "output_type": "stream",
     "text": [
      "Warning message:\n",
      "“Duplicated aesthetics after name standardisation: size”"
     ]
    },
    {
     "data": {
      "text/html": [
       "<table>\n",
       "<caption>A data.frame: 6 × 5</caption>\n",
       "<thead>\n",
       "\t<tr><th scope=col>id</th><th scope=col>data.Length</th><th scope=col>data.Completion</th><th scope=col>data.Redundancy</th><th scope=col>data.GC_Content</th></tr>\n",
       "\t<tr><th scope=col>&lt;fct&gt;</th><th scope=col>&lt;int&gt;</th><th scope=col>&lt;dbl&gt;</th><th scope=col>&lt;dbl&gt;</th><th scope=col>&lt;dbl&gt;</th></tr>\n",
       "</thead>\n",
       "<tbody>\n",
       "\t<tr><td>MAG_94</td><td>2495192</td><td>90.65</td><td>6.5</td><td>38.80</td></tr>\n",
       "\t<tr><td>MAG_64</td><td> 722913</td><td>56.12</td><td>0.0</td><td>49.36</td></tr>\n",
       "\t<tr><td>MAG_43</td><td> 705754</td><td>60.43</td><td>4.3</td><td>29.17</td></tr>\n",
       "\t<tr><td>MAG_16</td><td>2446458</td><td>97.12</td><td>0.7</td><td>44.02</td></tr>\n",
       "\t<tr><td>MAG_32</td><td>2626036</td><td>95.68</td><td>4.3</td><td>46.83</td></tr>\n",
       "\t<tr><td>MAG_70</td><td>1024210</td><td>79.14</td><td>2.9</td><td>36.51</td></tr>\n",
       "</tbody>\n",
       "</table>\n"
      ],
      "text/latex": [
       "A data.frame: 6 × 5\n",
       "\\begin{tabular}{r|lllll}\n",
       " id & data.Length & data.Completion & data.Redundancy & data.GC\\_Content\\\\\n",
       " <fct> & <int> & <dbl> & <dbl> & <dbl>\\\\\n",
       "\\hline\n",
       "\t MAG\\_94 & 2495192 & 90.65 & 6.5 & 38.80\\\\\n",
       "\t MAG\\_64 &  722913 & 56.12 & 0.0 & 49.36\\\\\n",
       "\t MAG\\_43 &  705754 & 60.43 & 4.3 & 29.17\\\\\n",
       "\t MAG\\_16 & 2446458 & 97.12 & 0.7 & 44.02\\\\\n",
       "\t MAG\\_32 & 2626036 & 95.68 & 4.3 & 46.83\\\\\n",
       "\t MAG\\_70 & 1024210 & 79.14 & 2.9 & 36.51\\\\\n",
       "\\end{tabular}\n"
      ],
      "text/markdown": [
       "\n",
       "A data.frame: 6 × 5\n",
       "\n",
       "| id &lt;fct&gt; | data.Length &lt;int&gt; | data.Completion &lt;dbl&gt; | data.Redundancy &lt;dbl&gt; | data.GC_Content &lt;dbl&gt; |\n",
       "|---|---|---|---|---|\n",
       "| MAG_94 | 2495192 | 90.65 | 6.5 | 38.80 |\n",
       "| MAG_64 |  722913 | 56.12 | 0.0 | 49.36 |\n",
       "| MAG_43 |  705754 | 60.43 | 4.3 | 29.17 |\n",
       "| MAG_16 | 2446458 | 97.12 | 0.7 | 44.02 |\n",
       "| MAG_32 | 2626036 | 95.68 | 4.3 | 46.83 |\n",
       "| MAG_70 | 1024210 | 79.14 | 2.9 | 36.51 |\n",
       "\n"
      ],
      "text/plain": [
       "  id     data.Length data.Completion data.Redundancy data.GC_Content\n",
       "1 MAG_94 2495192     90.65           6.5             38.80          \n",
       "2 MAG_64  722913     56.12           0.0             49.36          \n",
       "3 MAG_43  705754     60.43           4.3             29.17          \n",
       "4 MAG_16 2446458     97.12           0.7             44.02          \n",
       "5 MAG_32 2626036     95.68           4.3             46.83          \n",
       "6 MAG_70 1024210     79.14           2.9             36.51          "
      ]
     },
     "metadata": {},
     "output_type": "display_data"
    }
   ],
   "source": [
    "p <- ggtree(tree) + theme_tree2() \n",
    "p <- p %<+% metadata_df + geom_tiplab(size=1, offset=0.5, align=TRUE, linesize=.2, hjust=-0.1) +\n",
    "                 geom_tippoint(aes(size=Length), alpha=0.5)\n",
    "data_df <- data.frame(id=tree$tip.label, data=metadata_df[metadata_df$MAG_ID%in%tree$tip.label, c('Length', 'Completion', 'Redundancy', 'GC_Content')])\n",
    "head(data_df)"
   ]
  },
  {
   "cell_type": "markdown",
   "metadata": {},
   "source": [
    "### plot"
   ]
  },
  {
   "cell_type": "code",
   "execution_count": null,
   "metadata": {},
   "outputs": [],
   "source": [
    "p <- facet_plot(p + xlim_tree(3.5), panel=\"Completion\", data=data_df, geom=geom_segment, aes(x=0, xend=Completion, y=y, yend=y), size=1, alpha=.5)\n",
    "p <- facet_plot(p, panel=\"Redundancy\", data=data_df, geom=geom_segment, aes(x=0, xend=Redundancy, y=y, yend=y), size=1, alpha=.5)\n",
    "p <- facet_plot(p, panel=\"GC Content\", data=data_df, geom=geom_point, aes(x=GC_Content), alpha=.5, size=1)\n",
    "p <- p + theme(legend.position = 'left') + scale_colour_gradient(low = \"blue\", high = \"red\") #scale_color_gradient2(midpoint = mid, low = \"blue\", mid = \"white\", high = \"red\", space = \"Lab\" )# \n",
    "library(grid)\n",
    "gt = ggplot_gtable(ggplot_build(p))\n",
    "gt$widths[7] = 3*gt$widths[7]  # increase the width of Tree panel\n",
    "grid.draw(gt)\n",
    "\n",
    "# save the plot\n",
    "ggsave(filename=\"MAGstats.png\", plot = last_plot(), path=\"./\", \n",
    "       scale = 1, width = 297, height = 210, units = \"mm\",\n",
    "       dpi = 300, limitsize = FALSE)"
   ]
  },
  {
   "cell_type": "code",
   "execution_count": null,
   "metadata": {},
   "outputs": [],
   "source": []
  }
 ],
 "metadata": {
  "kernelspec": {
   "display_name": "R",
   "language": "R",
   "name": "ir"
  },
  "language_info": {
   "codemirror_mode": "r",
   "file_extension": ".r",
   "mimetype": "text/x-r-source",
   "name": "R",
   "pygments_lexer": "r",
   "version": "3.5.1"
  }
 },
 "nbformat": 4,
 "nbformat_minor": 2
}
